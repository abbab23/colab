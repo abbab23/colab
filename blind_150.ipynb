{
  "nbformat": 4,
  "nbformat_minor": 0,
  "metadata": {
    "colab": {
      "provenance": [],
      "authorship_tag": "ABX9TyN7AUFIu5QkvQN80blIdsop",
      "include_colab_link": true
    },
    "kernelspec": {
      "name": "python3",
      "display_name": "Python 3"
    },
    "language_info": {
      "name": "python"
    }
  },
  "cells": [
    {
      "cell_type": "markdown",
      "metadata": {
        "id": "view-in-github",
        "colab_type": "text"
      },
      "source": [
        "<a href=\"https://colab.research.google.com/github/abbab23/colab/blob/main/blind_150.ipynb\" target=\"_parent\"><img src=\"https://colab.research.google.com/assets/colab-badge.svg\" alt=\"Open In Colab\"/></a>"
      ]
    },
    {
      "cell_type": "code",
      "execution_count": null,
      "metadata": {
        "id": "qmcVoWslXRzN"
      },
      "outputs": [],
      "source": []
    },
    {
      "cell_type": "markdown",
      "source": [
        "duplicate in an array.\n"
      ],
      "metadata": {
        "id": "XIAudi4OXcva"
      }
    },
    {
      "cell_type": "code",
      "source": [
        "\n",
        "#brute force technique\n",
        "a=[2,3,4,4]\n",
        "b=[]\n",
        "for i in a:\n",
        "  b.append(i)\n",
        "  a.remove(i)\n",
        "  if i in a:\n",
        "    print(\"teue\")\n"
      ],
      "metadata": {
        "colab": {
          "base_uri": "https://localhost:8080/"
        },
        "id": "zvzprLNvXhRE",
        "outputId": "9abb9c2c-23cd-4b7c-b330-1fbb61fc9340"
      },
      "execution_count": null,
      "outputs": [
        {
          "output_type": "stream",
          "name": "stdout",
          "text": [
            "teue\n"
          ]
        }
      ]
    },
    {
      "cell_type": "code",
      "source": [
        "#optimised ,we use hashset because we can directly add data from array to set.time complexity and space complexity both are O(n)\n",
        "def dups(a):\n",
        "  hashset=set()\n",
        "  for i in a:\n",
        "    if i in hashset:\n",
        "      return True\n",
        "    hashset.add(i)\n",
        "  return False\n",
        "a=[2,3,4]\n",
        "dups(a)"
      ],
      "metadata": {
        "colab": {
          "base_uri": "https://localhost:8080/"
        },
        "id": "jmJCXiuPYREU",
        "outputId": "ea49d7c1-7f73-4005-9f49-015ef383c197"
      },
      "execution_count": null,
      "outputs": [
        {
          "output_type": "execute_result",
          "data": {
            "text/plain": [
              "False"
            ]
          },
          "metadata": {},
          "execution_count": 5
        }
      ]
    },
    {
      "cell_type": "markdown",
      "source": [
        "valid anagram"
      ],
      "metadata": {
        "id": "Oq3qm68-awvm"
      }
    },
    {
      "cell_type": "code",
      "source": [
        "#bruteforcing but time complexity due to sorting increases=nlogn,but space comp will be O(1)\n",
        "a='ram'\n",
        "b='mar'\n",
        "if sorted(a)==sorted(b):\n",
        "  print(\"true\")\n",
        "else:\n",
        "  print(\"false\")"
      ],
      "metadata": {
        "colab": {
          "base_uri": "https://localhost:8080/"
        },
        "id": "N11LmhORY7E0",
        "outputId": "36d68980-83b2-40ca-a08c-20ba88c03371"
      },
      "execution_count": null,
      "outputs": [
        {
          "output_type": "stream",
          "name": "stdout",
          "text": [
            "true\n"
          ]
        }
      ]
    },
    {
      "cell_type": "code",
      "source": [
        "\n",
        "#store the count of each letter in a dictionary,if dictionary is equal,its an anagram.here we parse through length in for loop unlike previos where we go through elements of an array.\n",
        "def anagram(a,b):\n",
        "  if len(a)!=len(b):\n",
        "    return False\n",
        "  counts,countt={},{}\n",
        "  for i in range(len(a)):\n",
        "    counts[a[i]]=1+counts.get(a[i],0)#get is used otherwise key error if value doesnt exist.\n",
        "    countt[b[i]]=1+countt.get(b[i],0)\n",
        "  if counts==countt:\n",
        "    return True\n",
        "  return False\n",
        "anagram('ram','mai')\n",
        "\n",
        "#time and space complexity are O(s+t) where s and t are two strings.\n",
        "\n",
        "# return counter(a)==counter(b) has the same procedure."
      ],
      "metadata": {
        "colab": {
          "base_uri": "https://localhost:8080/"
        },
        "id": "MLE5rjRba8ec",
        "outputId": "3c95ea3a-5573-487f-9aeb-6c000a0e3faa"
      },
      "execution_count": null,
      "outputs": [
        {
          "output_type": "execute_result",
          "data": {
            "text/plain": [
              "False"
            ]
          },
          "metadata": {},
          "execution_count": 11
        }
      ]
    },
    {
      "cell_type": "code",
      "source": [],
      "metadata": {
        "id": "C9NNiyU1c7CP"
      },
      "execution_count": null,
      "outputs": []
    },
    {
      "cell_type": "markdown",
      "source": [
        "question 3 twosum"
      ],
      "metadata": {
        "id": "mMh06lOXm8wf"
      }
    },
    {
      "cell_type": "code",
      "source": [
        "def twosum(a,target):\n",
        "  prevmap={}\n",
        "  for i,n in enumerate(a):\n",
        "    diff=target-n\n",
        "    if diff in prevmap:\n",
        "      return [i,prevmap[diff]]\n",
        "    prevmap[n]=i\n",
        "\n",
        "twosum([1,2,3],3)\n",
        "#time and space complexity will be O(n)"
      ],
      "metadata": {
        "colab": {
          "base_uri": "https://localhost:8080/"
        },
        "id": "XehL3Wr0m_LG",
        "outputId": "f97d42b6-85e3-49e1-9fa5-e93529f0316c"
      },
      "execution_count": null,
      "outputs": [
        {
          "output_type": "execute_result",
          "data": {
            "text/plain": [
              "[1, 0]"
            ]
          },
          "metadata": {},
          "execution_count": 30
        }
      ]
    },
    {
      "cell_type": "markdown",
      "source": [
        "palindrome"
      ],
      "metadata": {
        "id": "B6ryZEv52W1s"
      }
    },
    {
      "cell_type": "code",
      "source": [
        "#takes extra memory\n",
        "\n",
        "def palindrome(a):\n",
        "  b=[]\n",
        "  for i in a:\n",
        "    if i.isalnum():\n",
        "      b.append(i)\n",
        "  return b==b[::-1]\n",
        "palindrome('madam')"
      ],
      "metadata": {
        "colab": {
          "base_uri": "https://localhost:8080/"
        },
        "id": "2YYqBmS8nY8M",
        "outputId": "963dc243-6be6-483a-fc0f-46679f56e7cd"
      },
      "execution_count": 5,
      "outputs": [
        {
          "output_type": "execute_result",
          "data": {
            "text/plain": [
              "True"
            ]
          },
          "metadata": {},
          "execution_count": 5
        }
      ]
    },
    {
      "cell_type": "code",
      "source": [],
      "metadata": {
        "id": "MrdikPcAyRjP"
      },
      "execution_count": null,
      "outputs": []
    },
    {
      "cell_type": "markdown",
      "source": [
        "group anagram"
      ],
      "metadata": {
        "id": "rLbGzkUi3iPR"
      }
    },
    {
      "cell_type": "code",
      "source": [
        "from collections import defaultdict\n",
        "def groupanagram(s):\n",
        "  r=defaultdict(list)\n",
        "  for i in s:\n",
        "    count=[0]*26\n",
        "    for c in i:\n",
        "      count[ord(c)-ord(\"a\")]+=1\n",
        "    r[tuple(count)].append(i)\n",
        "  return r.values()\n",
        "groupanagram([\"eat\",\"tea\",\"tan\",\"ate\",\"nat\",\"bat\"])\n"
      ],
      "metadata": {
        "colab": {
          "base_uri": "https://localhost:8080/"
        },
        "id": "Le7268Ar3mNx",
        "outputId": "0e66bed1-98c9-4f57-ec7f-96e861c6a0df"
      },
      "execution_count": 8,
      "outputs": [
        {
          "output_type": "execute_result",
          "data": {
            "text/plain": [
              "dict_values([['eat', 'tea', 'ate'], ['tan', 'nat'], ['bat']])"
            ]
          },
          "metadata": {},
          "execution_count": 8
        }
      ]
    },
    {
      "cell_type": "code",
      "source": [],
      "metadata": {
        "id": "nfiFSSY83_Qe"
      },
      "execution_count": null,
      "outputs": []
    }
  ]
}