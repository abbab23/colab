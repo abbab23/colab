{
  "nbformat": 4,
  "nbformat_minor": 0,
  "metadata": {
    "colab": {
      "provenance": [],
      "authorship_tag": "ABX9TyPF1BWuIRK2dNhpTAW3+3C4",
      "include_colab_link": true
    },
    "kernelspec": {
      "name": "python3",
      "display_name": "Python 3"
    },
    "language_info": {
      "name": "python"
    }
  },
  "cells": [
    {
      "cell_type": "markdown",
      "metadata": {
        "id": "view-in-github",
        "colab_type": "text"
      },
      "source": [
        "<a href=\"https://colab.research.google.com/github/abbab23/colab/blob/main/blind_150a.ipynb\" target=\"_parent\"><img src=\"https://colab.research.google.com/assets/colab-badge.svg\" alt=\"Open In Colab\"/></a>"
      ]
    },
    {
      "cell_type": "code",
      "execution_count": null,
      "metadata": {
        "id": "qmcVoWslXRzN"
      },
      "outputs": [],
      "source": []
    },
    {
      "cell_type": "markdown",
      "source": [
        "duplicate in an array.\n"
      ],
      "metadata": {
        "id": "XIAudi4OXcva"
      }
    },
    {
      "cell_type": "code",
      "source": [
        "\n",
        "#brute force technique\n",
        "a=[2,3,4,4]\n",
        "b=[]\n",
        "for i in a:\n",
        "  b.append(i)\n",
        "  a.remove(i)\n",
        "  if i in a:\n",
        "    print(\"teue\")\n"
      ],
      "metadata": {
        "colab": {
          "base_uri": "https://localhost:8080/"
        },
        "id": "zvzprLNvXhRE",
        "outputId": "9abb9c2c-23cd-4b7c-b330-1fbb61fc9340"
      },
      "execution_count": null,
      "outputs": [
        {
          "output_type": "stream",
          "name": "stdout",
          "text": [
            "teue\n"
          ]
        }
      ]
    },
    {
      "cell_type": "code",
      "source": [
        "#optimised ,we use hashset because we can directly add data from array to set.time complexity and space complexity both are O(n)\n",
        "def dups(a):\n",
        "  hashset=set()\n",
        "  for i in a:\n",
        "    if i in hashset:\n",
        "      return True\n",
        "    hashset.add(i)\n",
        "  return False\n",
        "a=[2,3,4]\n",
        "dups(a)"
      ],
      "metadata": {
        "colab": {
          "base_uri": "https://localhost:8080/"
        },
        "id": "jmJCXiuPYREU",
        "outputId": "ea49d7c1-7f73-4005-9f49-015ef383c197"
      },
      "execution_count": null,
      "outputs": [
        {
          "output_type": "execute_result",
          "data": {
            "text/plain": [
              "False"
            ]
          },
          "metadata": {},
          "execution_count": 5
        }
      ]
    },
    {
      "cell_type": "markdown",
      "source": [
        "valid anagram"
      ],
      "metadata": {
        "id": "Oq3qm68-awvm"
      }
    },
    {
      "cell_type": "code",
      "source": [
        "#bruteforcing but time complexity due to sorting increases=nlogn,but space comp will be O(1)\n",
        "a='ram'\n",
        "b='mar'\n",
        "if sorted(a)==sorted(b):\n",
        "  print(\"true\")\n",
        "else:\n",
        "  print(\"false\")"
      ],
      "metadata": {
        "colab": {
          "base_uri": "https://localhost:8080/"
        },
        "id": "N11LmhORY7E0",
        "outputId": "36d68980-83b2-40ca-a08c-20ba88c03371"
      },
      "execution_count": null,
      "outputs": [
        {
          "output_type": "stream",
          "name": "stdout",
          "text": [
            "true\n"
          ]
        }
      ]
    },
    {
      "cell_type": "code",
      "source": [
        "\n",
        "#store the count of each letter in a dictionary,if dictionary is equal,its an anagram.here we parse through length in for loop unlike previos where we go through elements of an array.\n",
        "def anagram(a,b):\n",
        "  if len(a)!=len(b):\n",
        "    return False\n",
        "  counts,countt={},{}\n",
        "  for i in range(len(a)):\n",
        "    counts[a[i]]=1+counts.get(a[i],0)#get is used otherwise key error if value doesnt exist.\n",
        "    countt[b[i]]=1+countt.get(b[i],0)\n",
        "  if counts==countt:\n",
        "    return True\n",
        "  return False\n",
        "anagram('ram','mai')\n",
        "\n",
        "#time and space complexity are O(s+t) where s and t are two strings.\n",
        "\n",
        "# return counter(a)==counter(b) has the same procedure."
      ],
      "metadata": {
        "colab": {
          "base_uri": "https://localhost:8080/"
        },
        "id": "MLE5rjRba8ec",
        "outputId": "3c95ea3a-5573-487f-9aeb-6c000a0e3faa"
      },
      "execution_count": null,
      "outputs": [
        {
          "output_type": "execute_result",
          "data": {
            "text/plain": [
              "False"
            ]
          },
          "metadata": {},
          "execution_count": 11
        }
      ]
    },
    {
      "cell_type": "code",
      "source": [],
      "metadata": {
        "id": "C9NNiyU1c7CP"
      },
      "execution_count": null,
      "outputs": []
    },
    {
      "cell_type": "markdown",
      "source": [
        "question 3 twosum"
      ],
      "metadata": {
        "id": "mMh06lOXm8wf"
      }
    },
    {
      "cell_type": "code",
      "source": [
        "def twosum(a,target):\n",
        "  prevmap={}\n",
        "  for i,n in enumerate(a):\n",
        "    diff=target-n\n",
        "    if diff in prevmap:\n",
        "      return [i,prevmap[diff]]\n",
        "    prevmap[n]=i\n",
        "\n",
        "twosum([1,2,3],3)\n",
        "#time and space complexity will be O(n)"
      ],
      "metadata": {
        "colab": {
          "base_uri": "https://localhost:8080/"
        },
        "id": "XehL3Wr0m_LG",
        "outputId": "f97d42b6-85e3-49e1-9fa5-e93529f0316c"
      },
      "execution_count": null,
      "outputs": [
        {
          "output_type": "execute_result",
          "data": {
            "text/plain": [
              "[1, 0]"
            ]
          },
          "metadata": {},
          "execution_count": 30
        }
      ]
    },
    {
      "cell_type": "markdown",
      "source": [
        "palindrome"
      ],
      "metadata": {
        "id": "B6ryZEv52W1s"
      }
    },
    {
      "cell_type": "code",
      "source": [
        "#takes extra memory\n",
        "\n",
        "def palindrome(a):\n",
        "  b=[]\n",
        "  for i in a:\n",
        "    if i.isalnum():\n",
        "      b.append(i)\n",
        "  return b==b[::-1]\n",
        "palindrome('madam')"
      ],
      "metadata": {
        "colab": {
          "base_uri": "https://localhost:8080/"
        },
        "id": "2YYqBmS8nY8M",
        "outputId": "963dc243-6be6-483a-fc0f-46679f56e7cd"
      },
      "execution_count": null,
      "outputs": [
        {
          "output_type": "execute_result",
          "data": {
            "text/plain": [
              "True"
            ]
          },
          "metadata": {},
          "execution_count": 5
        }
      ]
    },
    {
      "cell_type": "code",
      "source": [],
      "metadata": {
        "id": "MrdikPcAyRjP"
      },
      "execution_count": null,
      "outputs": []
    },
    {
      "cell_type": "markdown",
      "source": [
        "group anagram"
      ],
      "metadata": {
        "id": "rLbGzkUi3iPR"
      }
    },
    {
      "cell_type": "code",
      "source": [
        "from collections import defaultdict\n",
        "def groupanagram(s):\n",
        "  r=defaultdict(list)\n",
        "  for i in s:\n",
        "    count=[0]*26\n",
        "    for c in i:\n",
        "      count[ord(c)-ord(\"a\")]+=1\n",
        "    r[tuple(count)].append(i)\n",
        "  return r.values()\n",
        "groupanagram([\"eat\",\"tea\",\"tan\",\"ate\",\"nat\",\"bat\"])\n"
      ],
      "metadata": {
        "colab": {
          "base_uri": "https://localhost:8080/"
        },
        "id": "Le7268Ar3mNx",
        "outputId": "0e66bed1-98c9-4f57-ec7f-96e861c6a0df"
      },
      "execution_count": null,
      "outputs": [
        {
          "output_type": "execute_result",
          "data": {
            "text/plain": [
              "dict_values([['eat', 'tea', 'ate'], ['tan', 'nat'], ['bat']])"
            ]
          },
          "metadata": {},
          "execution_count": 8
        }
      ]
    },
    {
      "cell_type": "code",
      "source": [],
      "metadata": {
        "id": "nfiFSSY83_Qe"
      },
      "execution_count": null,
      "outputs": []
    },
    {
      "cell_type": "markdown",
      "source": [
        "top k elements in a list"
      ],
      "metadata": {
        "id": "XsYjN2xyV2i_"
      }
    },
    {
      "cell_type": "code",
      "source": [
        "a=[1,1,2,2,2,3]\n",
        "k=2\n",
        "d={}\n",
        "for i in a:\n",
        "  d[i]=d.get(i,0)+1\n",
        "while k>0:\n",
        "  for i in sorted(d,key=d.get,reverse=True):\n",
        "    print(i)\n",
        "    k-=1\n",
        "    if k==0:\n",
        "      break\n",
        "\n"
      ],
      "metadata": {
        "colab": {
          "base_uri": "https://localhost:8080/"
        },
        "id": "LNd79n6dV-uK",
        "outputId": "b6d87196-edf7-4445-c18d-b59d7eae45c8"
      },
      "execution_count": null,
      "outputs": [
        {
          "output_type": "stream",
          "name": "stdout",
          "text": [
            "2\n",
            "1\n"
          ]
        }
      ]
    },
    {
      "cell_type": "code",
      "source": [
        "#optimal solution\n",
        "def kmost(k,a):\n",
        "  count={}\n",
        "  freq=[[] for  i in range (len(a)+1)]\n",
        "  for n in a:\n",
        "    count[n]=1+count.get(n,0)\n",
        "  for n,c in count.items():\n",
        "    freq[c].append(n)\n",
        "  res=[]\n",
        "  for i in range(len(freq)-1,0,-1):\n",
        "    for n in freq[i]:\n",
        "      res.append(n)\n",
        "      if len(res)==k:\n",
        "        return res\n",
        "kmost(2,[1,1,2,2,2,3])\n",
        "#\n"
      ],
      "metadata": {
        "colab": {
          "base_uri": "https://localhost:8080/"
        },
        "id": "Dt1pmwHnWXAD",
        "outputId": "35e30778-b7cd-481e-e2b7-5b5e6214b398"
      },
      "execution_count": null,
      "outputs": [
        {
          "output_type": "execute_result",
          "data": {
            "text/plain": [
              "[2, 1]"
            ]
          },
          "metadata": {},
          "execution_count": 8
        }
      ]
    },
    {
      "cell_type": "code",
      "source": [],
      "metadata": {
        "id": "OUgasI8gjDPx"
      },
      "execution_count": null,
      "outputs": []
    },
    {
      "cell_type": "markdown",
      "source": [
        "encode decode"
      ],
      "metadata": {
        "id": "iucmoI_Tju_j"
      }
    },
    {
      "cell_type": "code",
      "source": [
        "a=['ram','is','a','good','boy']\n",
        "b='c '.join(a)\n",
        "print(b)\n",
        "c=b.split('c ')\n",
        "print(c)"
      ],
      "metadata": {
        "colab": {
          "base_uri": "https://localhost:8080/"
        },
        "id": "RhB_h4RLjwTA",
        "outputId": "20844122-561a-41cf-dd92-6267b1e3043c"
      },
      "execution_count": null,
      "outputs": [
        {
          "output_type": "stream",
          "name": "stdout",
          "text": [
            "ramc isc ac goodc boy\n",
            "['ram', 'is', 'a', 'good', 'boy']\n"
          ]
        }
      ]
    },
    {
      "cell_type": "code",
      "source": [
        "def encode(strs):\n",
        "  res = \"\"\n",
        "  for s in strs:\n",
        "        res += str(len(s)) + \"#\" + s\n",
        "  return res\n",
        "\n",
        "def decode(s):\n",
        "  res,i=[],0\n",
        "  while i<len(s):\n",
        "    j=i\n",
        "    while s[j]!=\"#\":\n",
        "      j+=1\n",
        "    length=int(s[i:j])\n",
        "    res.append(s[j+1:j+1+length])\n",
        "    i=j+1+length\n",
        "  return res\n",
        "a=encode(['ram','is','a','good','boy'])\n",
        "print(a)\n",
        "decode(a)"
      ],
      "metadata": {
        "colab": {
          "base_uri": "https://localhost:8080/"
        },
        "id": "2-EpzvfpqiFq",
        "outputId": "96e988cf-ef36-496b-aea2-1fd4d0eeeb30"
      },
      "execution_count": null,
      "outputs": [
        {
          "output_type": "stream",
          "name": "stdout",
          "text": [
            "3#ram2#is1#a4#good3#boy\n"
          ]
        },
        {
          "output_type": "execute_result",
          "data": {
            "text/plain": [
              "['ram', 'is', 'a', 'good', 'boy']"
            ]
          },
          "metadata": {},
          "execution_count": 31
        }
      ]
    },
    {
      "cell_type": "markdown",
      "source": [
        "pointer"
      ],
      "metadata": {
        "id": "60N2Vb7fMemS"
      }
    },
    {
      "cell_type": "code",
      "source": [
        "def palindrome(a):\n",
        "  b=[]\n",
        "  for i in a:\n",
        "    if i.isalnum():\n",
        "      b.append(i)\n",
        "  if b==b[::-1]:\n",
        "    return True\n",
        "  return False\n",
        "palindrome('madam')"
      ],
      "metadata": {
        "colab": {
          "base_uri": "https://localhost:8080/"
        },
        "id": "r-Nv8n_Lq4hY",
        "outputId": "c614a573-7269-4881-a175-2369d5452a6f"
      },
      "execution_count": null,
      "outputs": [
        {
          "output_type": "execute_result",
          "data": {
            "text/plain": [
              "True"
            ]
          },
          "metadata": {},
          "execution_count": 1
        }
      ]
    },
    {
      "cell_type": "code",
      "source": [
        "#with better memory complexity\n",
        "class solution():\n",
        "  def palindrome(self,a):\n",
        "    l,r=0,len(a)-1\n",
        "    while l<r:\n",
        "      while l<r and not self.alphanum(a[l]):\n",
        "        l+=1\n",
        "      while l<r and not self.alphanum(a[r]):\n",
        "        r-=1\n",
        "      if a[l].lower() != a[r].lower():\n",
        "                return False\n",
        "      l,r=l+1,r-1\n",
        "    return True\n",
        "  def alphanum(self,c):\n",
        "    return (ord('A')<=ord(c)<=ord('Z') or\n",
        "            ord('a')<=ord(c)<=ord('z') or\n",
        "            ord('0')<=ord(c)<=ord('9'))\n",
        "\n",
        "  a=solution()\n",
        "  print(a.palindrome('madam'))"
      ],
      "metadata": {
        "id": "K3d_wUporHkN",
        "outputId": "9c3d00ba-34fa-45e1-df56-2ee4af40d55b",
        "colab": {
          "base_uri": "https://localhost:8080/"
        }
      },
      "execution_count": null,
      "outputs": [
        {
          "output_type": "stream",
          "name": "stdout",
          "text": [
            "True\n"
          ]
        }
      ]
    },
    {
      "cell_type": "code",
      "source": [
        "#sorted two sum\n",
        "\n",
        "a=[1,2,3,4,5]\n",
        "def sorttwosum(target):\n",
        "  l,r=0,len(a)-1\n",
        "  while l<r:\n",
        "    if a[l]+a[r]==target:\n",
        "      return [l,r]\n",
        "    elif a[l]+a[r]<target:\n",
        "      l+=1\n",
        "    else:\n",
        "      r-=1\n",
        "\n",
        "sorttwosum(6)"
      ],
      "metadata": {
        "id": "BE1ea56egAOj",
        "outputId": "dd54cd7e-948b-4d9f-8d99-744386afee50",
        "colab": {
          "base_uri": "https://localhost:8080/"
        }
      },
      "execution_count": null,
      "outputs": [
        {
          "output_type": "execute_result",
          "data": {
            "text/plain": [
              "[0, 4]"
            ]
          },
          "metadata": {},
          "execution_count": 8
        }
      ]
    },
    {
      "cell_type": "code",
      "source": [
        "#max water container\n",
        "height = [1,7,2,5,4,7,3,6]\n",
        "def maxwater(h):\n",
        "  l,r=0,len(h)-1\n",
        "  res=0\n",
        "  while l<r:\n",
        "    area=(r-l)*min(h[l],h[r])\n",
        "    res=max(res,area)\n",
        "    if h[l]<h[r]:\n",
        "      l+=1\n",
        "    else:\n",
        "      r-=1\n",
        "  return res\n",
        "maxwater(height)"
      ],
      "metadata": {
        "id": "Q5BCzdxNhiDq",
        "colab": {
          "base_uri": "https://localhost:8080/"
        },
        "outputId": "55521b86-9852-4185-f4aa-d6430f61abb0"
      },
      "execution_count": null,
      "outputs": [
        {
          "output_type": "execute_result",
          "data": {
            "text/plain": [
              "36"
            ]
          },
          "metadata": {},
          "execution_count": 1
        }
      ]
    },
    {
      "cell_type": "code",
      "source": [
        "def longseq(a):\n",
        "  longest=0\n",
        "  x=set(a)\n",
        "  for i in x:\n",
        "    if (i-1) not in x:\n",
        "      length=1\n",
        "      while (i + length) in x:\n",
        "        length+=1\n",
        "      longest=max(length,longest)\n",
        "  return longest\n",
        "longseq([100,4,200,1,3,2])\n",
        "#"
      ],
      "metadata": {
        "colab": {
          "base_uri": "https://localhost:8080/"
        },
        "id": "ColRuZFAamWh",
        "outputId": "02149f34-a61e-421f-9984-8ab08395a1b2"
      },
      "execution_count": null,
      "outputs": [
        {
          "output_type": "execute_result",
          "data": {
            "text/plain": [
              "4"
            ]
          },
          "metadata": {},
          "execution_count": 3
        }
      ]
    },
    {
      "cell_type": "markdown",
      "source": [
        "sliding window"
      ],
      "metadata": {
        "id": "HdcV0yjDe_UN"
      }
    },
    {
      "cell_type": "code",
      "source": [
        "def stock(a):\n",
        "  lowest=a[0]\n",
        "  profit=0\n",
        "  for i in a:\n",
        "    if i<lowest:\n",
        "      lowest=i\n",
        "    profit=max(profit,i-lowest)\n",
        "  return profit\n",
        "stock([7,1,5,3,6,4])\n",
        "\n",
        "\n",
        "#time complexity o(n)"
      ],
      "metadata": {
        "colab": {
          "base_uri": "https://localhost:8080/"
        },
        "id": "9hE_KO5ybN0T",
        "outputId": "f653a31d-380d-478f-b492-9ca331e2b8cb"
      },
      "execution_count": null,
      "outputs": [
        {
          "output_type": "execute_result",
          "data": {
            "text/plain": [
              "5"
            ]
          },
          "metadata": {},
          "execution_count": 5
        }
      ]
    },
    {
      "cell_type": "code",
      "source": [
        "#longest substring\n",
        "def substring(a):\n",
        "  l=0\n",
        "  x=set()\n",
        "  res=0\n",
        "  for right in range(len(a)):\n",
        "    while a[right] in x:\n",
        "      x.remove(a[l])\n",
        "      l+=1\n",
        "    x.add(a[right])\n",
        "    res=max(res,right-l +1)\n",
        "\n",
        "\n",
        "\n"
      ],
      "metadata": {
        "id": "-5fIHFzyfU0L"
      },
      "execution_count": null,
      "outputs": []
    },
    {
      "cell_type": "code",
      "source": [],
      "metadata": {
        "colab": {
          "base_uri": "https://localhost:8080/"
        },
        "id": "STGHgiEbATva",
        "outputId": "5cf3e29a-21c0-4ce3-f3fb-327ea417521f"
      },
      "execution_count": null,
      "outputs": [
        {
          "output_type": "execute_result",
          "data": {
            "text/plain": [
              "5"
            ]
          },
          "metadata": {},
          "execution_count": 33
        }
      ]
    },
    {
      "cell_type": "code",
      "source": [
        "#non optimized use two loops\n",
        "def permutationstring(a,b):\n",
        "  length=len(a)\n",
        "  l=0\n",
        "  r=len(a)-1\n",
        "\n",
        "  orda=[0]*26\n",
        "  ordb=[0]*26\n",
        "  for i in range(length):\n",
        "    orda[ord(a[i])-ord('a')]+=1\n",
        "  for i in range(length):\n",
        "        ordb[ord(b[i]) - ord('a')] += 1\n",
        "\n",
        "  while r<len(b):\n",
        "    if orda == ordb:\n",
        "            return True\n",
        "\n",
        "\n",
        "\n",
        "    ordb[ord(b[l]) - ord('a')] -= 1  # Remove the leftmost character\n",
        "    l += 1\n",
        "    r += 1\n",
        "    if r < len(b):  # Add the new rightmost character\n",
        "            ordb[ord(b[r]) - ord('a')] += 1\n",
        "\n",
        "  return orda==ordb\n",
        "\n",
        "permutationstring('ab','xyacb')\n",
        "\n",
        "\n"
      ],
      "metadata": {
        "colab": {
          "base_uri": "https://localhost:8080/"
        },
        "id": "q7ZEJFbdB1aM",
        "outputId": "fc4bf5b4-154a-455b-84f2-6e649e26b8dd"
      },
      "execution_count": null,
      "outputs": [
        {
          "output_type": "execute_result",
          "data": {
            "text/plain": [
              "False"
            ]
          },
          "metadata": {},
          "execution_count": 37
        }
      ]
    },
    {
      "cell_type": "markdown",
      "source": [
        "stack"
      ],
      "metadata": {
        "id": "t3St9sjURD4H"
      }
    },
    {
      "cell_type": "code",
      "source": [
        "#valid paranthesis o(n)\n",
        "s = \"([{}])\"\n",
        "def valid(a):\n",
        "  x=[]\n",
        "  closetoopen={'}':'{',']':'[',')':'('}\n",
        "  for i in s:\n",
        "    if i not in closetoopen:\n",
        "      x.append(i)\n",
        "      continue\n",
        "    if not x or x[-1]!=closetoopen[i]:\n",
        "      return False\n",
        "    x.pop()\n",
        "  return not x\n",
        "valid(s)\n",
        "\n",
        "\n",
        "\n",
        "\n"
      ],
      "metadata": {
        "colab": {
          "base_uri": "https://localhost:8080/"
        },
        "id": "R4swG6JERLgu",
        "outputId": "b6c75c13-1e29-4eb7-9595-5caa63b46438"
      },
      "execution_count": 12,
      "outputs": [
        {
          "output_type": "execute_result",
          "data": {
            "text/plain": [
              "True"
            ]
          },
          "metadata": {},
          "execution_count": 12
        }
      ]
    },
    {
      "cell_type": "code",
      "source": [
        "def valid(s):\n",
        "    x = []\n",
        "    closetoopen = {')': '(', '}': '{', ']': '['}\n",
        "\n",
        "    for i in s:\n",
        "        if i in closetoopen:\n",
        "            # If the stack is empty or top of the stack doesn't match, return False\n",
        "            if not x or x[-1] != closetoopen[i]:\n",
        "                return False\n",
        "            x.pop()  # Pop the matching opening parenthesis\n",
        "        else:\n",
        "            x.append(i)  # Push the opening parenthesis onto the stack\n",
        "\n",
        "    return not x  # Return True if the stack is empty (balanced parentheses)\n",
        "\n",
        "# Test example\n",
        "s = \"([{}])\"\n",
        "print(valid(s))  # Output: True\n"
      ],
      "metadata": {
        "colab": {
          "base_uri": "https://localhost:8080/"
        },
        "id": "q-nGx6oqfZNx",
        "outputId": "963df409-2a31-4090-ab1c-a04480e120ff"
      },
      "execution_count": 13,
      "outputs": [
        {
          "output_type": "stream",
          "name": "stdout",
          "text": [
            "True\n"
          ]
        }
      ]
    },
    {
      "cell_type": "markdown",
      "source": [],
      "metadata": {
        "id": "P_lkqpzjw9YW"
      }
    },
    {
      "cell_type": "code",
      "source": [
        "#define a class which will allow us to perform different operations\n",
        "class minstack():\n",
        "  def __init__(self):\n",
        "    self.stack=[]\n",
        "    self.minstack=[]\n",
        "\n",
        "  def push(self,val):\n",
        "    self.stack.append(val)\n",
        "    val=min(val,self.minstack[-1] if self.minstack else val)\n",
        "    self.minstack.append(val)\n",
        "\n",
        "  def pop(self):\n",
        "    self.stack.pop()\n",
        "    self.minstack.pop()\n",
        "\n",
        "  def min(self):\n",
        "    return self.minstack[-1]\n",
        "\n",
        "  def top(self):\n",
        "    return self.stack[-1]\n",
        "\n",
        "a=minstack()\n",
        "a.push(-1)\n",
        "a.push(0)\n",
        "a.push(-2)\n",
        "print(a.min())\n",
        "a.pop()\n",
        "print(a.min())\n",
        "print(a.top())"
      ],
      "metadata": {
        "colab": {
          "base_uri": "https://localhost:8080/"
        },
        "id": "qMEJ1bVifopw",
        "outputId": "b86fda7c-e2c2-4ea5-90a5-cc29e64fd619"
      },
      "execution_count": 18,
      "outputs": [
        {
          "output_type": "stream",
          "name": "stdout",
          "text": [
            "-2\n",
            "-1\n",
            "0\n"
          ]
        }
      ]
    },
    {
      "cell_type": "code",
      "source": [
        "\n",
        "\n",
        "\n",
        "\n",
        "\n"
      ],
      "metadata": {
        "id": "TZ15gjY8lKqW"
      },
      "execution_count": 5,
      "outputs": []
    },
    {
      "cell_type": "code",
      "source": [
        "#reverse polish notations\n",
        "def reversepolish(a):\n",
        "  stack=[]\n",
        "  for i in a:\n",
        "    if i=='+':\n",
        "      stack.append(stack.pop()+stack.pop())\n",
        "    elif i=='-':\n",
        "        a,b=stack.pop(),stack.pop()\n",
        "        stack.append(b-a)\n",
        "    elif i=='*':\n",
        "      a,b=stack.pop(),stack.pop()\n",
        "      stack.append(a*b)\n",
        "    elif i=='/':\n",
        "      a,b=stack.pop(),stack.pop()\n",
        "      stack.append(int(float(b)/a))\n",
        "    else:\n",
        "      stack.append(int(i))\n",
        "  return  stack[0]\n",
        "reversepolish([\"1\",\"2\",\"+\",\"3\",\"*\",\"4\",\"-\"])"
      ],
      "metadata": {
        "id": "oQjS3wYV61Gu",
        "outputId": "2db44380-0bd4-43b4-f005-e89c33f5cfbf",
        "colab": {
          "base_uri": "https://localhost:8080/"
        }
      },
      "execution_count": 8,
      "outputs": [
        {
          "output_type": "execute_result",
          "data": {
            "text/plain": [
              "5"
            ]
          },
          "metadata": {},
          "execution_count": 8
        }
      ]
    },
    {
      "cell_type": "code",
      "source": [
        "def generateparanthesis(n):\n",
        "  stack=[]\n",
        "  res=[]\n",
        "  def backtrack(openn,closedn):\n",
        "    if openn==closedn==n:\n",
        "      res.append(\"\".join(stack))\n",
        "    if openn<n:\n",
        "      stack.append(\")\")\n",
        "      backtrack(openn+1,closedn)\n",
        "      stack.pop()\n",
        "    if closedn<openn:\n",
        "      stack.append('(')\n",
        "      backtrack(openn,closedn+1)\n",
        "      stack.pop()\n",
        "  backtrack(0,0)\n",
        "  return res\n",
        "generateparanthesis(3)\n",
        ""
      ],
      "metadata": {
        "id": "RPz96vJr7lJR",
        "outputId": "052225f9-e325-4b1d-c9b0-a6e45adc8740",
        "colab": {
          "base_uri": "https://localhost:8080/"
        }
      },
      "execution_count": 15,
      "outputs": [
        {
          "output_type": "execute_result",
          "data": {
            "text/plain": [
              "[')))(((', '))()((', '))(()(', ')())((', ')()()(']"
            ]
          },
          "metadata": {},
          "execution_count": 15
        }
      ]
    },
    {
      "cell_type": "code",
      "source": [],
      "metadata": {
        "id": "yBkAPnYGaPEg"
      },
      "execution_count": null,
      "outputs": []
    }
  ]
}