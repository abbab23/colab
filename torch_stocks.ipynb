{
  "metadata": {
    "kernelspec": {
      "language": "python",
      "display_name": "Python 3",
      "name": "python3"
    },
    "language_info": {
      "name": "python",
      "version": "3.10.13",
      "mimetype": "text/x-python",
      "codemirror_mode": {
        "name": "ipython",
        "version": 3
      },
      "pygments_lexer": "ipython3",
      "nbconvert_exporter": "python",
      "file_extension": ".py"
    },
    "kaggle": {
      "accelerator": "none",
      "dataSources": [],
      "dockerImageVersionId": 30746,
      "isInternetEnabled": false,
      "language": "python",
      "sourceType": "notebook",
      "isGpuEnabled": false
    },
    "colab": {
      "name": "torch stocks",
      "provenance": [],
      "include_colab_link": true
    }
  },
  "nbformat_minor": 0,
  "nbformat": 4,
  "cells": [
    {
      "cell_type": "markdown",
      "metadata": {
        "id": "view-in-github",
        "colab_type": "text"
      },
      "source": [
        "<a href=\"https://colab.research.google.com/github/abbab23/colab/blob/main/torch_stocks.ipynb\" target=\"_parent\"><img src=\"https://colab.research.google.com/assets/colab-badge.svg\" alt=\"Open In Colab\"/></a>"
      ]
    },
    {
      "cell_type": "code",
      "source": [
        "# This Python 3 environment comes with many helpful analytics libraries installed\n",
        "# It is defined by the kaggle/python Docker image: https://github.com/kaggle/docker-python\n",
        "# For example, here's several helpful packages to load\n",
        "\n",
        "import numpy as np # linear algebra\n",
        "import pandas as pd # data processing, CSV file I/O (e.g. pd.read_csv)\n",
        "\n",
        "# Input data files are available in the read-only \"../input/\" directory\n",
        "# For example, running this (by clicking run or pressing Shift+Enter) will list all files under the input directory\n",
        "\n",
        "import os\n",
        "for dirname, _, filenames in os.walk('/kaggle/input'):\n",
        "    for filename in filenames:\n",
        "        print(os.path.join(dirname, filename))\n",
        "\n",
        "# You can write up to 20GB to the current directory (/kaggle/working/) that gets preserved as output when you create a version using \"Save & Run All\"\n",
        "# You can also write temporary files to /kaggle/temp/, but they won't be saved outside of the current session"
      ],
      "metadata": {
        "_uuid": "8f2839f25d086af736a60e9eeb907d3b93b6e0e5",
        "_cell_guid": "b1076dfc-b9ad-4769-8c92-a6c4dae69d19",
        "trusted": true,
        "id": "ULg96cBqj2eL"
      },
      "execution_count": null,
      "outputs": []
    },
    {
      "cell_type": "code",
      "source": [
        "import pandas as pd\n",
        "import numpy as np\n",
        "import seaborn as sns\n",
        "import matplotlib.pyplot as plt"
      ],
      "metadata": {
        "execution": {
          "iopub.status.busy": "2024-07-15T08:21:00.866483Z",
          "iopub.execute_input": "2024-07-15T08:21:00.866877Z",
          "iopub.status.idle": "2024-07-15T08:21:01.829583Z",
          "shell.execute_reply.started": "2024-07-15T08:21:00.866845Z",
          "shell.execute_reply": "2024-07-15T08:21:01.828539Z"
        },
        "trusted": true,
        "id": "A78IuS7rj2eM"
      },
      "execution_count": null,
      "outputs": []
    },
    {
      "cell_type": "code",
      "source": [
        "print(\"hello world\")"
      ],
      "metadata": {
        "execution": {
          "iopub.status.busy": "2024-07-15T08:21:12.249608Z",
          "iopub.execute_input": "2024-07-15T08:21:12.25071Z",
          "iopub.status.idle": "2024-07-15T08:21:12.25617Z",
          "shell.execute_reply.started": "2024-07-15T08:21:12.250674Z",
          "shell.execute_reply": "2024-07-15T08:21:12.255007Z"
        },
        "trusted": true,
        "id": "zfkWBTIcj2eM",
        "outputId": "cfae1ff9-59c7-4c71-bda2-e27789f70343"
      },
      "execution_count": null,
      "outputs": [
        {
          "name": "stdout",
          "text": "hello world\n",
          "output_type": "stream"
        }
      ]
    },
    {
      "cell_type": "code",
      "source": [
        "\n",
        "import pandas_datareader.data as pdr\n",
        "import yfinance as yf\n",
        "from pandas_datareader.data import DataReader\n",
        "from pandas_datareader import data as pdr\n"
      ],
      "metadata": {
        "execution": {
          "iopub.status.busy": "2024-07-15T08:42:44.338917Z",
          "iopub.execute_input": "2024-07-15T08:42:44.339324Z",
          "iopub.status.idle": "2024-07-15T08:42:44.374716Z",
          "shell.execute_reply.started": "2024-07-15T08:42:44.339289Z",
          "shell.execute_reply": "2024-07-15T08:42:44.373344Z"
        },
        "trusted": true,
        "id": "c3HmlRiGj2eN",
        "outputId": "d6854b3e-1127-4712-d3a2-3f657d29ea9e"
      },
      "execution_count": null,
      "outputs": [
        {
          "traceback": [
            "\u001b[0;31m---------------------------------------------------------------------------\u001b[0m",
            "\u001b[0;31mModuleNotFoundError\u001b[0m                       Traceback (most recent call last)",
            "Cell \u001b[0;32mIn[8], line 2\u001b[0m\n\u001b[1;32m      1\u001b[0m \u001b[38;5;28;01mimport\u001b[39;00m \u001b[38;5;21;01mpandas_datareader\u001b[39;00m\u001b[38;5;21;01m.\u001b[39;00m\u001b[38;5;21;01mdata\u001b[39;00m \u001b[38;5;28;01mas\u001b[39;00m \u001b[38;5;21;01mpdr\u001b[39;00m\n\u001b[0;32m----> 2\u001b[0m \u001b[38;5;28;01mimport\u001b[39;00m \u001b[38;5;21;01myfinance\u001b[39;00m \u001b[38;5;28;01mas\u001b[39;00m \u001b[38;5;21;01myf\u001b[39;00m\n\u001b[1;32m      3\u001b[0m \u001b[38;5;28;01mfrom\u001b[39;00m \u001b[38;5;21;01mpandas_datareader\u001b[39;00m\u001b[38;5;21;01m.\u001b[39;00m\u001b[38;5;21;01mdata\u001b[39;00m \u001b[38;5;28;01mimport\u001b[39;00m DataReader\n\u001b[1;32m      4\u001b[0m \u001b[38;5;28;01mfrom\u001b[39;00m \u001b[38;5;21;01mpandas_datareader\u001b[39;00m \u001b[38;5;28;01mimport\u001b[39;00m data \u001b[38;5;28;01mas\u001b[39;00m pdr\n",
            "\u001b[0;31mModuleNotFoundError\u001b[0m: No module named 'yfinance'"
          ],
          "ename": "ModuleNotFoundError",
          "evalue": "No module named 'yfinance'",
          "output_type": "error"
        }
      ]
    },
    {
      "cell_type": "code",
      "source": [
        "pip install yfinance\n"
      ],
      "metadata": {
        "execution": {
          "iopub.status.busy": "2024-07-15T08:40:24.879254Z",
          "iopub.execute_input": "2024-07-15T08:40:24.879639Z",
          "iopub.status.idle": "2024-07-15T08:42:34.796012Z",
          "shell.execute_reply.started": "2024-07-15T08:40:24.879608Z",
          "shell.execute_reply": "2024-07-15T08:42:34.794693Z"
        },
        "trusted": true,
        "id": "m0wnWldXj2eN",
        "outputId": "cbd64155-70f2-48c2-ab11-7453ba9f7dd2"
      },
      "execution_count": null,
      "outputs": [
        {
          "name": "stdout",
          "text": "\u001b[33mWARNING: Retrying (Retry(total=4, connect=None, read=None, redirect=None, status=None)) after connection broken by 'NewConnectionError('<pip._vendor.urllib3.connection.HTTPSConnection object at 0x7c7b01eb0220>: Failed to establish a new connection: [Errno -3] Temporary failure in name resolution')': /simple/yfinance/\u001b[0m\u001b[33m\n\u001b[0m\u001b[33mWARNING: Retrying (Retry(total=3, connect=None, read=None, redirect=None, status=None)) after connection broken by 'NewConnectionError('<pip._vendor.urllib3.connection.HTTPSConnection object at 0x7c7b01eb0520>: Failed to establish a new connection: [Errno -3] Temporary failure in name resolution')': /simple/yfinance/\u001b[0m\u001b[33m\n\u001b[0m\u001b[33mWARNING: Retrying (Retry(total=2, connect=None, read=None, redirect=None, status=None)) after connection broken by 'NewConnectionError('<pip._vendor.urllib3.connection.HTTPSConnection object at 0x7c7b01eb07c0>: Failed to establish a new connection: [Errno -3] Temporary failure in name resolution')': /simple/yfinance/\u001b[0m\u001b[33m\n\u001b[0m\u001b[33mWARNING: Retrying (Retry(total=1, connect=None, read=None, redirect=None, status=None)) after connection broken by 'NewConnectionError('<pip._vendor.urllib3.connection.HTTPSConnection object at 0x7c7b01eb0970>: Failed to establish a new connection: [Errno -3] Temporary failure in name resolution')': /simple/yfinance/\u001b[0m\u001b[33m\n\u001b[0m\u001b[33mWARNING: Retrying (Retry(total=0, connect=None, read=None, redirect=None, status=None)) after connection broken by 'NewConnectionError('<pip._vendor.urllib3.connection.HTTPSConnection object at 0x7c7b01eb0b20>: Failed to establish a new connection: [Errno -3] Temporary failure in name resolution')': /simple/yfinance/\u001b[0m\u001b[33m\n\u001b[0m\u001b[31mERROR: Could not find a version that satisfies the requirement yfinance (from versions: none)\u001b[0m\u001b[31m\n\u001b[0m\u001b[31mERROR: No matching distribution found for yfinance\u001b[0m\u001b[31m\n\u001b[0mNote: you may need to restart the kernel to use updated packages.\n",
          "output_type": "stream"
        }
      ]
    },
    {
      "cell_type": "code",
      "source": [],
      "metadata": {
        "id": "ZW4wFTwAj2eN"
      },
      "execution_count": null,
      "outputs": []
    }
  ]
}